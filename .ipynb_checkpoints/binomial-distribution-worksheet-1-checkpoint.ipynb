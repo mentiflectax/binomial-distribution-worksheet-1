{
 "cells": [
  {
   "cell_type": "markdown",
   "metadata": {},
   "source": [
    "# How to determine whether or not 20 million people from a larger population like a particular movie idea?\n",
    "\n",
    "## Purpose of the document\n",
    "\n",
    "To describe an algorithm using which I can find out whether or not at least 20 million people (out of a much larger population) will like a particular idea, based on a poll with 10-100 people.\n"
   ]
  },
  {
   "cell_type": "markdown",
   "metadata": {},
   "source": [
    "## Playground"
   ]
  },
  {
   "cell_type": "markdown",
   "metadata": {},
   "source": [
    "Number of respondents"
   ]
  },
  {
   "cell_type": "code",
   "execution_count": 39,
   "metadata": {},
   "outputs": [],
   "source": [
    "respondents_count = 10 # 10 for 10 people, 100 for 100 etc."
   ]
  },
  {
   "cell_type": "markdown",
   "metadata": {},
   "source": [
    "Required number of people who like the movie"
   ]
  },
  {
   "cell_type": "code",
   "execution_count": 40,
   "metadata": {},
   "outputs": [],
   "source": [
    "required_lovers = 20000000 # e. g. 20 million"
   ]
  },
  {
   "cell_type": "markdown",
   "metadata": {},
   "source": [
    "Total population size"
   ]
  },
  {
   "cell_type": "code",
   "execution_count": 41,
   "metadata": {},
   "outputs": [],
   "source": [
    "total_population = 140000000 # e. g. 140 million for Russia, 330 million for the US"
   ]
  },
  {
   "cell_type": "code",
   "execution_count": 42,
   "metadata": {},
   "outputs": [],
   "source": [
    "P = required_lovers / total_population"
   ]
  },
  {
   "cell_type": "code",
   "execution_count": 43,
   "metadata": {},
   "outputs": [
    {
     "name": "stdout",
     "output_type": "stream",
     "text": [
      "0.14285714285714285\n"
     ]
    }
   ],
   "source": [
    "print(P)"
   ]
  },
  {
   "cell_type": "code",
   "execution_count": 44,
   "metadata": {},
   "outputs": [
    {
     "data": {
      "text/plain": [
       "0.14285714285714285"
      ]
     },
     "execution_count": 44,
     "metadata": {},
     "output_type": "execute_result"
    }
   ],
   "source": [
    "1/7"
   ]
  },
  {
   "cell_type": "markdown",
   "metadata": {},
   "source": [
    "Plot a binomial distribution with parameters `(respondents_count, P)`"
   ]
  },
  {
   "cell_type": "code",
   "execution_count": 45,
   "metadata": {},
   "outputs": [
    {
     "name": "stdout",
     "output_type": "stream",
     "text": [
      "[1 4 1 1 2 1 2 2 2 2]\n"
     ]
    },
    {
     "data": {
      "text/plain": [
       "[Text(0, 0.5, 'Frequency'), Text(0.5, 0, 'Binomial')]"
      ]
     },
     "execution_count": 45,
     "metadata": {},
     "output_type": "execute_result"
    },
    {
     "data": {
      "image/png": "[encoded data removed]",
      "text/plain": [
       "<Figure size 432x288 with 1 Axes>"
      ]
     },
     "metadata": {
      "needs_background": "light"
     },
     "output_type": "display_data"
    }
   ],
   "source": [
    "import seaborn as sb, numpy as np\n",
    "from scipy.stats import binom\n",
    "#data_binom =binom.rvs(size=10,n=20,p=0.8)\n",
    "data_binom = binom.rvs(n=respondents_count,p=P,loc=0,size=10)\n",
    "print(data_binom)\n",
    "ax = sb.distplot(data_binom,kde=True,color='blue',hist_kws={\"linewidth\": 25,'alpha':1})\n",
    "ax.set(xlabel='Binomial', ylabel='Frequency')"
   ]
  },
  {
   "cell_type": "markdown",
   "metadata": {},
   "source": [
    "Take the number of successes in the sample."
   ]
  },
  {
   "cell_type": "code",
   "execution_count": 46,
   "metadata": {},
   "outputs": [],
   "source": [
    "successes_in_sample = 80"
   ]
  },
  {
   "cell_type": "markdown",
   "metadata": {},
   "source": [
    "> see how likely that was to have happened in this distribution\n",
    "\n"
   ]
  },
  {
   "cell_type": "markdown",
   "metadata": {},
   "source": [
    "Another approach from [here](https://www.statisticshowto.com/probability-and-statistics/binomial-theorem/binomial-distribution-formula/):\n",
    "\n",
    "$P(X) = \\frac{n!}{(n - X)!X!}(p)^X*(1-p)^{n-X}$"
   ]
  },
  {
   "cell_type": "markdown",
   "metadata": {},
   "source": [
    " * $n$ - number of trials. In our case number of respondents.\n",
    " * $X$ - total number of successes.\n",
    " * $p$ - probability of success of any given trial, $P$ (1/7 in case of 140 million people in the population)"
   ]
  },
  {
   "cell_type": "code",
   "execution_count": 47,
   "metadata": {},
   "outputs": [],
   "source": [
    "import math\n",
    "\n",
    "def bin_prob(x, n, p):\n",
    "    n_fact = math.factorial(n)\n",
    "    n_minus_x_fact = math.factorial(n-x)\n",
    "    x_fact = math.factorial(x)\n",
    "    return n_fact/(n_minus_x_fact*x_fact)*(p**x)*((1-p)**(n-x))"
   ]
  },
  {
   "cell_type": "markdown",
   "metadata": {},
   "source": [
    "Let's look at the whole thing for 140 million population and a 100 trials."
   ]
  },
  {
   "cell_type": "code",
   "execution_count": 48,
   "metadata": {},
   "outputs": [
    {
     "data": {
      "text/plain": [
       "3.3664315361698167e-06"
      ]
     },
     "execution_count": 48,
     "metadata": {},
     "output_type": "execute_result"
    }
   ],
   "source": [
    "bin_prob(1.0, 100.0, 1/7) # 1 success in a sample of 100 trials, 140 mill. population, 20 mill. req. audience"
   ]
  },
  {
   "cell_type": "code",
   "execution_count": 49,
   "metadata": {},
   "outputs": [
    {
     "data": {
      "text/plain": [
       "3.0916904080902036e-85"
      ]
     },
     "execution_count": 49,
     "metadata": {},
     "output_type": "execute_result"
    }
   ],
   "source": [
    "bin_prob(100.0, 100.0, 1/7) # 100 successes in a sample of 100 trials, 140 mill. population, 20 mill. req. audience"
   ]
  },
  {
   "cell_type": "markdown",
   "metadata": {},
   "source": [
    "What is the formula behind `bin_prob` called?"
   ]
  },
  {
   "cell_type": "code",
   "execution_count": 50,
   "metadata": {},
   "outputs": [],
   "source": [
    "import math\n",
    "import scipy.stats\n",
    "\n",
    "# n - Number of total bets\n",
    "# p - Probability of getting \"red\" at the roulette\n",
    "# x - Maximum number of successful bets\n",
    "def bin_prob2(x, n, p): \n",
    "    hh = scipy.stats.binom(n, p)\n",
    "    total_p = 0.0\n",
    "    for k in range(1, x + 1):  # DO NOT FORGET THAT THE LAST INDEX IS NOT USED\n",
    "        total_p += hh.pmf(k)\n",
    "    return total_p"
   ]
  },
  {
   "cell_type": "code",
   "execution_count": 51,
   "metadata": {},
   "outputs": [
    {
     "data": {
      "text/plain": [
       "3.3664315361697307e-06"
      ]
     },
     "execution_count": 51,
     "metadata": {},
     "output_type": "execute_result"
    }
   ],
   "source": [
    "bin_prob2(1, 100.0, 1/7) # 1 success in a sample of 100 trials, 140 mill. population, 20 mill. req. audience"
   ]
  },
  {
   "cell_type": "code",
   "execution_count": 52,
   "metadata": {},
   "outputs": [
    {
     "data": {
      "text/plain": [
       "0.9999997980141033"
      ]
     },
     "execution_count": 52,
     "metadata": {},
     "output_type": "execute_result"
    }
   ],
   "source": [
    "bin_prob2(100, 100.0, 1/7) # 1 success in a sample of 100 trials, 140 mill. population, 20 mill. req. audience"
   ]
  },
  {
   "cell_type": "code",
   "execution_count": 53,
   "metadata": {},
   "outputs": [],
   "source": [
    "# required_approval_pop = required number of people who like the log line in the population (e. g. 20 million)\n",
    "# pop_size = population size (e. g. 140 million)\n",
    "# sample_size = size of the sample (number of respndents)\n",
    "def render_table(required_approval_pop, pop_size, sample_size):\n",
    "    html = []\n",
    "\n",
    "    html.append(\"<table>\")\n",
    "    html.append(\"<tr>\")\n",
    "    html.append(\"<th>\")\n",
    "    html.append(\"Number of people liking the logline\")\n",
    "    html.append(\"</th>\")\n",
    "    html.append(\"<th>\")\n",
    "    html.append(\"Probability that \" + str(required_approval_pop) + \" out \" + str(pop_size) + \" will like it\")\n",
    "    html.append(\"</th>\")\n",
    "    html.append(\"</tr>\")\n",
    "\n",
    "    for x in range(1, sample_size+1):\n",
    "        prob = bin_prob2(x, sample_size, required_approval_pop/pop_size)\n",
    "        html.append(\"<tr>\")\n",
    "        html.append(\"<td>\")\n",
    "        html.append(str(x))\n",
    "        html.append(\"</td>\")\n",
    "        html.append(\"<td>\")\n",
    "        html.append( \"{0:.2%}\".format(prob))\n",
    "        html.append(\"</td>\")\n",
    "        html.append(\"</tr>\")\n",
    "    html.append(\"</table>\")\n",
    "    return ''.join(html)"
   ]
  },
  {
   "cell_type": "markdown",
   "metadata": {},
   "source": [
    "# Example 1: Sample of 100 people, total population 140 million"
   ]
  },
  {
   "cell_type": "code",
   "execution_count": 54,
   "metadata": {},
   "outputs": [
    {
     "data": {
      "text/html": [
       "<table><tr><th>Number of people liking the logline</th><th>Probability that 20000000 out 140000000 will like it</th></tr><tr><td>1</td><td>0.00%</td></tr><tr><td>2</td><td>0.00%</td></tr><tr><td>3</td><td>0.02%</td></tr><tr><td>4</td><td>0.08%</td></tr><tr><td>5</td><td>0.27%</td></tr><tr><td>6</td><td>0.79%</td></tr><tr><td>7</td><td>1.95%</td></tr><tr><td>8</td><td>4.18%</td></tr><tr><td>9</td><td>8.00%</td></tr><tr><td>10</td><td>13.78%</td></tr><tr><td>11</td><td>21.66%</td></tr><tr><td>12</td><td>31.41%</td></tr><tr><td>13</td><td>42.41%</td></tr><tr><td>14</td><td>53.80%</td></tr><tr><td>15</td><td>64.68%</td></tr><tr><td>16</td><td>74.32%</td></tr><tr><td>17</td><td>82.25%</td></tr><tr><td>18</td><td>88.35%</td></tr><tr><td>19</td><td>92.74%</td></tr><tr><td>20</td><td>95.70%</td></tr><tr><td>21</td><td>97.58%</td></tr><tr><td>22</td><td>98.70%</td></tr><tr><td>23</td><td>99.34%</td></tr><tr><td>24</td><td>99.68%</td></tr><tr><td>25</td><td>99.85%</td></tr><tr><td>26</td><td>99.93%</td></tr><tr><td>27</td><td>99.97%</td></tr><tr><td>28</td><td>99.99%</td></tr><tr><td>29</td><td>100.00%</td></tr><tr><td>30</td><td>100.00%</td></tr><tr><td>31</td><td>100.00%</td></tr><tr><td>32</td><td>100.00%</td></tr><tr><td>33</td><td>100.00%</td></tr><tr><td>34</td><td>100.00%</td></tr><tr><td>35</td><td>100.00%</td></tr><tr><td>36</td><td>100.00%</td></tr><tr><td>37</td><td>100.00%</td></tr><tr><td>38</td><td>100.00%</td></tr><tr><td>39</td><td>100.00%</td></tr><tr><td>40</td><td>100.00%</td></tr><tr><td>41</td><td>100.00%</td></tr><tr><td>42</td><td>100.00%</td></tr><tr><td>43</td><td>100.00%</td></tr><tr><td>44</td><td>100.00%</td></tr><tr><td>45</td><td>100.00%</td></tr><tr><td>46</td><td>100.00%</td></tr><tr><td>47</td><td>100.00%</td></tr><tr><td>48</td><td>100.00%</td></tr><tr><td>49</td><td>100.00%</td></tr><tr><td>50</td><td>100.00%</td></tr><tr><td>51</td><td>100.00%</td></tr><tr><td>52</td><td>100.00%</td></tr><tr><td>53</td><td>100.00%</td></tr><tr><td>54</td><td>100.00%</td></tr><tr><td>55</td><td>100.00%</td></tr><tr><td>56</td><td>100.00%</td></tr><tr><td>57</td><td>100.00%</td></tr><tr><td>58</td><td>100.00%</td></tr><tr><td>59</td><td>100.00%</td></tr><tr><td>60</td><td>100.00%</td></tr><tr><td>61</td><td>100.00%</td></tr><tr><td>62</td><td>100.00%</td></tr><tr><td>63</td><td>100.00%</td></tr><tr><td>64</td><td>100.00%</td></tr><tr><td>65</td><td>100.00%</td></tr><tr><td>66</td><td>100.00%</td></tr><tr><td>67</td><td>100.00%</td></tr><tr><td>68</td><td>100.00%</td></tr><tr><td>69</td><td>100.00%</td></tr><tr><td>70</td><td>100.00%</td></tr><tr><td>71</td><td>100.00%</td></tr><tr><td>72</td><td>100.00%</td></tr><tr><td>73</td><td>100.00%</td></tr><tr><td>74</td><td>100.00%</td></tr><tr><td>75</td><td>100.00%</td></tr><tr><td>76</td><td>100.00%</td></tr><tr><td>77</td><td>100.00%</td></tr><tr><td>78</td><td>100.00%</td></tr><tr><td>79</td><td>100.00%</td></tr><tr><td>80</td><td>100.00%</td></tr><tr><td>81</td><td>100.00%</td></tr><tr><td>82</td><td>100.00%</td></tr><tr><td>83</td><td>100.00%</td></tr><tr><td>84</td><td>100.00%</td></tr><tr><td>85</td><td>100.00%</td></tr><tr><td>86</td><td>100.00%</td></tr><tr><td>87</td><td>100.00%</td></tr><tr><td>88</td><td>100.00%</td></tr><tr><td>89</td><td>100.00%</td></tr><tr><td>90</td><td>100.00%</td></tr><tr><td>91</td><td>100.00%</td></tr><tr><td>92</td><td>100.00%</td></tr><tr><td>93</td><td>100.00%</td></tr><tr><td>94</td><td>100.00%</td></tr><tr><td>95</td><td>100.00%</td></tr><tr><td>96</td><td>100.00%</td></tr><tr><td>97</td><td>100.00%</td></tr><tr><td>98</td><td>100.00%</td></tr><tr><td>99</td><td>100.00%</td></tr><tr><td>100</td><td>100.00%</td></tr></table>"
      ],
      "text/plain": [
       "<IPython.core.display.HTML object>"
      ]
     },
     "execution_count": 54,
     "metadata": {},
     "output_type": "execute_result"
    }
   ],
   "source": [
    "from IPython.core.display import HTML\n",
    "HTML(render_table(required_approval_pop=20000000, pop_size=140000000, sample_size=100))\n"
   ]
  },
  {
   "cell_type": "markdown",
   "metadata": {},
   "source": [
    "# Example 2: Sample of 10 people, total population 140 million"
   ]
  },
  {
   "cell_type": "code",
   "execution_count": 57,
   "metadata": {},
   "outputs": [
    {
     "data": {
      "text/html": [
       "<table><tr><th>Number of people liking the logline</th><th>Probability that 20000000 out 140000000 will like it</th></tr><tr><td>1</td><td>35.68%</td></tr><tr><td>2</td><td>62.43%</td></tr><tr><td>3</td><td>74.33%</td></tr><tr><td>4</td><td>77.79%</td></tr><tr><td>5</td><td>78.49%</td></tr><tr><td>6</td><td>78.58%</td></tr><tr><td>7</td><td>78.59%</td></tr><tr><td>8</td><td>78.59%</td></tr><tr><td>9</td><td>78.59%</td></tr><tr><td>10</td><td>78.59%</td></tr></table>"
      ],
      "text/plain": [
       "<IPython.core.display.HTML object>"
      ]
     },
     "execution_count": 57,
     "metadata": {},
     "output_type": "execute_result"
    }
   ],
   "source": [
    "from IPython.core.display import HTML\n",
    "HTML(render_table(required_approval_pop=20000000, pop_size=140000000, sample_size=10))\n"
   ]
  },
  {
   "cell_type": "markdown",
   "metadata": {},
   "source": [
    "TODO: Same for the US (2 samples)"
   ]
  },
  {
   "cell_type": "markdown",
   "metadata": {},
   "source": [
    "# Links\n",
    "\n",
    " * https://www.mathsisfun.com/data/binomial-distribution.html\n",
    " * https://gist.github.com/fbrundu/746ea5aee0b73a2ddd26"
   ]
  }
 ],
 "metadata": {
  "kernelspec": {
   "display_name": "Python 3",
   "language": "python",
   "name": "python3"
  },
  "language_info": {
   "codemirror_mode": {
    "name": "ipython",
    "version": 3
   },
   "file_extension": ".py",
   "mimetype": "text/x-python",
   "name": "python",
   "nbconvert_exporter": "python",
   "pygments_lexer": "ipython3",
   "version": "3.7.6"
  }
 },
 "nbformat": 4,
 "nbformat_minor": 4
}
